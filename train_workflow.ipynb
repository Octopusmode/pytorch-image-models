{
 "cells": [
  {
   "cell_type": "code",
   "execution_count": 8,
   "metadata": {},
   "outputs": [
    {
     "name": "stderr",
     "output_type": "stream",
     "text": [
      "/home/mosminin/dev/pytorch-image-models/.venv/lib/python3.9/site-packages/safetensors/torch.py:99: UserWarning: TypedStorage is deprecated. It will be removed in the future and UntypedStorage will be the only storage class. This should only matter to you if you are using storages directly.  To access UntypedStorage directly, use tensor.untyped_storage() instead of tensor.storage()\n",
      "  with safe_open(filename, framework=\"pt\", device=device) as f:\n",
      "/home/mosminin/dev/pytorch-image-models/.venv/lib/python3.9/site-packages/torch/_utils.py:776: UserWarning: TypedStorage is deprecated. It will be removed in the future and UntypedStorage will be the only storage class. This should only matter to you if you are using storages directly.  To access UntypedStorage directly, use tensor.untyped_storage() instead of tensor.storage()\n",
      "  return self.fget.__get__(instance, owner)()\n",
      "/home/mosminin/dev/pytorch-image-models/.venv/lib/python3.9/site-packages/torch/storage.py:899: UserWarning: TypedStorage is deprecated. It will be removed in the future and UntypedStorage will be the only storage class. This should only matter to you if you are using storages directly.  To access UntypedStorage directly, use tensor.untyped_storage() instead of tensor.storage()\n",
      "  storage = cls(wrap_storage=untyped_storage)\n"
     ]
    }
   ],
   "source": [
    "import timm\n",
    "import torch\n",
    "import torch.nn as nn\n",
    "import torch.optim as optim\n",
    "import torchvision.transforms as transforms\n",
    "from torchvision.datasets import ImageFolder\n",
    "\n",
    "from pathlib import Path\n",
    "\n",
    "model = timm.create_model('mobilenetv3_large_100.ra_in1k', pretrained=True, num_classes = 2)\n",
    "model.requires_grad_(False)\n",
    "\n",
    "criterion = nn.CrossEntropyLoss()\n",
    "optimizer = optim.Adam(model.parameters(), lr=0.001)\n",
    "\n",
    "num_epochs = 20"
   ]
  },
  {
   "attachments": {},
   "cell_type": "markdown",
   "metadata": {},
   "source": [
    "### Dataloader"
   ]
  },
  {
   "cell_type": "code",
   "execution_count": 9,
   "metadata": {},
   "outputs": [
    {
     "ename": "TypeError",
     "evalue": "__init__() missing 1 required positional argument: 'std'",
     "output_type": "error",
     "traceback": [
      "\u001b[0;31m---------------------------------------------------------------------------\u001b[0m",
      "\u001b[0;31mTypeError\u001b[0m                                 Traceback (most recent call last)",
      "Cell \u001b[0;32mIn[9], line 7\u001b[0m\n\u001b[1;32m      1\u001b[0m train_transforms \u001b[39m=\u001b[39m transforms([\n\u001b[1;32m      2\u001b[0m     transforms\u001b[39m.\u001b[39mRandomHorizontalFlip(),\n\u001b[1;32m      3\u001b[0m     transforms\u001b[39m.\u001b[39mRandomRotation(\u001b[39m5\u001b[39m),\n\u001b[1;32m      4\u001b[0m     transforms\u001b[39m.\u001b[39mRandomErasing(),\n\u001b[1;32m      5\u001b[0m     transforms\u001b[39m.\u001b[39mRandAugment(),\n\u001b[1;32m      6\u001b[0m     transforms\u001b[39m.\u001b[39mToTensor(),\n\u001b[0;32m----> 7\u001b[0m     transforms\u001b[39m.\u001b[39;49mNormalize([\u001b[39m0.485\u001b[39;49m, \u001b[39m0.456\u001b[39;49m, \u001b[39m0.406\u001b[39;49m])\n\u001b[1;32m      8\u001b[0m ])\n\u001b[1;32m     10\u001b[0m valid_transforms \u001b[39m=\u001b[39m transforms([\n\u001b[1;32m     11\u001b[0m     transforms\u001b[39m.\u001b[39mRandomRotation(\u001b[39m5\u001b[39m),\n\u001b[1;32m     12\u001b[0m     transforms\u001b[39m.\u001b[39mRandomErasing(),\n\u001b[1;32m     13\u001b[0m     transforms\u001b[39m.\u001b[39mToTensor(),\n\u001b[1;32m     14\u001b[0m     transforms\u001b[39m.\u001b[39mNormalize([\u001b[39m0.485\u001b[39m, \u001b[39m0.456\u001b[39m, \u001b[39m0.406\u001b[39m])\n\u001b[1;32m     15\u001b[0m ])\n",
      "\u001b[0;31mTypeError\u001b[0m: __init__() missing 1 required positional argument: 'std'"
     ]
    }
   ],
   "source": [
    "train_transforms = transforms([\n",
    "    transforms.RandomHorizontalFlip(),\n",
    "    transforms.RandomRotation(5),\n",
    "    transforms.RandomErasing(),\n",
    "    transforms.RandAugment(),\n",
    "    transforms.ToTensor(),\n",
    "    transforms.Normalize([0.485, 0.456, 0.406], [0.229, 0.224, 0.225])\n",
    "])\n",
    "\n",
    "valid_transforms = transforms([\n",
    "    transforms.RandomRotation(5),\n",
    "    transforms.RandomErasing(),\n",
    "    transforms.ToTensor(),\n",
    "    transforms.Normalize([0.485, 0.456, 0.406], [0.229, 0.224, 0.225])\n",
    "])"
   ]
  },
  {
   "cell_type": "code",
   "execution_count": null,
   "metadata": {},
   "outputs": [],
   "source": [
    "data_path = str(Path('/home/mosminin/dev/yolo4scaled/darknet/parser/datasets/COCO2017/person_class'))\n",
    "\n",
    "train_dataset = ImageFolder(root=data_path+'/train', transform=train_transforms)\n",
    "val_dataset = ImageFolder(root=data_path+'/valid', transform=valid_transforms)"
   ]
  },
  {
   "attachments": {},
   "cell_type": "markdown",
   "metadata": {},
   "source": [
    "### Train"
   ]
  },
  {
   "cell_type": "code",
   "execution_count": null,
   "metadata": {},
   "outputs": [],
   "source": [
    "for epoch in range(num_epochs):\n",
    "    running_loss = 0.0\n",
    "    for i, data in enumerate(trainloader, 0):\n",
    "        inputs, labels = data\n",
    "        optimizer.zero_grad()\n",
    "        outputs = model(inputs)\n",
    "        loss = criterion(outputs, labels)\n",
    "        loss.backward()\n",
    "        optimizer.step()\n",
    "        running_loss += loss.item()\n",
    "        if i % 2000 == 1999:\n",
    "            print('[%d, %5d] loss: %.3f' %\n",
    "                  (epoch + 1, i + 1, running_loss / 2000))\n",
    "            running_loss = 0.0"
   ]
  },
  {
   "attachments": {},
   "cell_type": "markdown",
   "metadata": {},
   "source": [
    "### test"
   ]
  },
  {
   "cell_type": "code",
   "execution_count": null,
   "metadata": {},
   "outputs": [],
   "source": []
  }
 ],
 "metadata": {
  "kernelspec": {
   "display_name": ".venv",
   "language": "python",
   "name": "python3"
  },
  "language_info": {
   "codemirror_mode": {
    "name": "ipython",
    "version": 3
   },
   "file_extension": ".py",
   "mimetype": "text/x-python",
   "name": "python",
   "nbconvert_exporter": "python",
   "pygments_lexer": "ipython3",
   "version": "3.9.2"
  },
  "orig_nbformat": 4
 },
 "nbformat": 4,
 "nbformat_minor": 2
}
